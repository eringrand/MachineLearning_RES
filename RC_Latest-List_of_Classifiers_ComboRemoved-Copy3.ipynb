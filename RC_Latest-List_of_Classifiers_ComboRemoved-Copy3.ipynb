{
 "cells": [
  {
   "cell_type": "code",
   "execution_count": 1,
   "metadata": {
    "collapsed": false
   },
   "outputs": [],
   "source": [
    "#setup data\n",
    "import pandas as pd\n",
    "import numpy as np\n",
    "import math\n",
    "import random\n",
    "from sklearn import preprocessing\n",
    "\n",
    "ignore_features = ['25', '26', '8', '58', '20', '23', '29', '31', '32', '35']\n",
    "toencode = {}\n",
    "f = open(\"field_types.txt\", 'r')\n",
    "for line in f.readlines():\n",
    "    line = line.strip().split(\" \")\n",
    "    if line[1] != \"numeric\" and line[0] not in ignore_features:\n",
    "        toencode[line[0]] = len(line) - 1\n",
    "        \n",
    "\n",
    "f1 = open(\"data.csv\")\n",
    "data_df = pd.read_csv(f1, sep=',', header = 'infer', low_memory=False)\n",
    "data_df = data_df.drop(ignore_features, axis=1)\n",
    "label_df = data_df[['label']]\n",
    "data_df = data_df.drop('label', axis=1)\n",
    "label = np.array(label_df)\n",
    "\n",
    "\n",
    "f2 = open(\"quiz.csv\")\n",
    "quiz_df = pd.read_csv(f2, sep=',', header = 'infer', low_memory=False)\n",
    "quiz_df = quiz_df.drop(ignore_features, axis=1)\n"
   ]
  },
  {
   "cell_type": "code",
   "execution_count": 2,
   "metadata": {
    "collapsed": false
   },
   "outputs": [],
   "source": [
    "#getting test and train\n",
    "data_end = np.shape(data_df)[0]\n",
    "df = data_df.append(quiz_df)\n",
    "df_trans = pd.get_dummies(df, columns=toencode.keys(), dummy_na=False)\n",
    "data = np.array(df_trans)\n",
    "\n",
    "data, quiz = data[:data_end], data[data_end:]"
   ]
  },
  {
   "cell_type": "code",
   "execution_count": 3,
   "metadata": {
    "collapsed": false
   },
   "outputs": [],
   "source": [
    "#splitting to features and labels by training and test\n",
    "def splitdata(data, label):\n",
    "    n = data.shape[0]\n",
    "    train_num = int(math.ceil(n*.8))\n",
    "    indices = random.sample(xrange(n), n)\n",
    "\n",
    "    training_idx, test_idx = indices[train_num:], indices[:train_num]\n",
    "    training, test = data[training_idx,:], data[test_idx,:]\n",
    "    lab, testlabel = label[training_idx,:], label[test_idx,:]\n",
    "    \n",
    "    return training, lab, test, testlabel\n",
    "\n",
    "train, lab, test, testlabel = splitdata(data, label)"
   ]
  },
  {
   "cell_type": "code",
   "execution_count": 4,
   "metadata": {
    "collapsed": false
   },
   "outputs": [],
   "source": [
    "#evaluator\n",
    "def eval(preds, testlabels):\n",
    "    if len(preds) == len(testlabels):\n",
    "        error = np.count_nonzero(preds != testlabels) / np.float(len(preds))\n",
    "        return 1 - error"
   ]
  },
  {
   "cell_type": "code",
   "execution_count": 5,
   "metadata": {
    "collapsed": true
   },
   "outputs": [],
   "source": [
    "#unraveling\n",
    "testlabelnum = np.ravel(testlabel)\n",
    "labnum = np.ravel(lab)"
   ]
  },
  {
   "cell_type": "code",
   "execution_count": 11,
   "metadata": {
    "collapsed": false
   },
   "outputs": [
    {
     "name": "stdout",
     "output_type": "stream",
     "text": [
      "0.890322262738\n"
     ]
    }
   ],
   "source": [
    "#decision tree 50 depth (0.890)\n",
    "from sklearn.tree import DecisionTreeClassifier\n",
    "dectree50 = DecisionTreeClassifier(max_depth=50)\n",
    "\n",
    "ydectree50test = dectree50.fit(train, lab).predict(test)\n",
    "print eval(ydectree50test, testlabelnum)"
   ]
  },
  {
   "cell_type": "code",
   "execution_count": 7,
   "metadata": {
    "collapsed": false
   },
   "outputs": [
    {
     "name": "stdout",
     "output_type": "stream",
     "text": [
      "0.877550014783\n"
     ]
    },
    {
     "name": "stderr",
     "output_type": "stream",
     "text": [
      "/Users/radixold/anaconda/lib/python2.7/site-packages/sklearn/utils/validation.py:515: DataConversionWarning: A column-vector y was passed when a 1d array was expected. Please change the shape of y to (n_samples, ), for example using ravel().\n",
      "  y = column_or_1d(y, warn=True)\n"
     ]
    }
   ],
   "source": [
    "from sklearn.linear_model import LogisticRegression\n",
    "\n",
    "# scalar weighting\n",
    "scaler = preprocessing.StandardScaler().fit(train)\n",
    "trains = scaler.transform(train) \n",
    "tests = scaler.transform(test) \n",
    "quizs = scaler.transform(quiz) \n",
    "\n",
    "logreg = LogisticRegression()\n",
    "\n",
    "#logistic regression (0.87656)\n",
    "ylogregtest = logreg.fit(trains, lab).predict(tests)\n",
    "print eval(ylogregtest, testlabelnum)"
   ]
  },
  {
   "cell_type": "code",
   "execution_count": null,
   "metadata": {
    "collapsed": true
   },
   "outputs": [],
   "source": [
    "#adaboost on dec tree max_dept = 10 (0.9169)\n",
    "from sklearn.ensemble import AdaBoostClassifier\n",
    "from sklearn.tree import DecisionTreeClassifier\n",
    "adaboost = AdaBoostClassifier(DecisionTreeClassifier(max_depth=10),n_estimators=600, learning_rate=1)\n",
    "\n",
    "yadaboosttest = adaboost.fit(train, lab).predict(test)\n",
    "print eval(yadaboosttest, testlabelnum)"
   ]
  },
  {
   "cell_type": "code",
   "execution_count": 14,
   "metadata": {
    "collapsed": false
   },
   "outputs": [
    {
     "name": "stdout",
     "output_type": "stream",
     "text": [
      "0.919769389967\n"
     ]
    },
    {
     "name": "stderr",
     "output_type": "stream",
     "text": [
      "/Users/radixold/anaconda/lib/python2.7/site-packages/sklearn/utils/validation.py:515: DataConversionWarning: A column-vector y was passed when a 1d array was expected. Please change the shape of y to (n_samples, ), for example using ravel().\n",
      "  y = column_or_1d(y, warn=True)\n"
     ]
    }
   ],
   "source": [
    "#adaboost on dec tree max_dept = 20 (0.9197)\n",
    "from sklearn.ensemble import AdaBoostClassifier\n",
    "from sklearn.tree import DecisionTreeClassifier\n",
    "adaboost20 = AdaBoostClassifier(DecisionTreeClassifier(max_depth=30),n_estimators=600, learning_rate=1)\n",
    "\n",
    "yadaboosttest20 = adaboost20.fit(train, lab).predict(test)\n",
    "print eval(yadaboosttest20, testlabelnum)"
   ]
  },
  {
   "cell_type": "code",
   "execution_count": 16,
   "metadata": {
    "collapsed": false
   },
   "outputs": [
    {
     "name": "stdout",
     "output_type": "stream",
     "text": [
      "0.920370552873\n"
     ]
    },
    {
     "name": "stderr",
     "output_type": "stream",
     "text": [
      "/Users/radixold/anaconda/lib/python2.7/site-packages/sklearn/utils/validation.py:515: DataConversionWarning: A column-vector y was passed when a 1d array was expected. Please change the shape of y to (n_samples, ), for example using ravel().\n",
      "  y = column_or_1d(y, warn=True)\n"
     ]
    }
   ],
   "source": [
    "#adaboost on dec tree max_dept = 30' n_estimators 1000 (0.9203)\n",
    "from sklearn.ensemble import AdaBoostClassifier\n",
    "from sklearn.tree import DecisionTreeClassifier\n",
    "adaboost20ne = AdaBoostClassifier(DecisionTreeClassifier(max_depth=30),n_estimators=1000, learning_rate=1)\n",
    "\n",
    "yadaboosttest20ne = adaboost20ne.fit(train, lab).predict(test)\n",
    "print eval(yadaboosttest20ne, testlabelnum)"
   ]
  },
  {
   "cell_type": "code",
   "execution_count": null,
   "metadata": {
    "collapsed": false
   },
   "outputs": [],
   "source": [
    "#adaboost on dec tree max_dept = 20' learning_rate = 2 (0.9197)\n",
    "from sklearn.ensemble import AdaBoostClassifier\n",
    "from sklearn.tree import DecisionTreeClassifier\n",
    "adaboost20lr = AdaBoostClassifier(DecisionTreeClassifier(max_depth=30),n_estimators=600, learning_rate=2)\n",
    "\n",
    "yadaboosttest20lr = adaboost20lr.fit(train, lab).predict(test)\n",
    "print eval(yadaboosttest20lr, testlabelnum)"
   ]
  },
  {
   "cell_type": "code",
   "execution_count": 14,
   "metadata": {
    "collapsed": false
   },
   "outputs": [
    {
     "name": "stdout",
     "output_type": "stream",
     "text": [
      "0.92628363063\n"
     ]
    },
    {
     "name": "stderr",
     "output_type": "stream",
     "text": [
      "/Users/radixold/anaconda/lib/python2.7/site-packages/ipykernel/__main__.py:5: DataConversionWarning: A column-vector y was passed when a 1d array was expected. Please change the shape of y to (n_samples,), for example using ravel().\n"
     ]
    }
   ],
   "source": [
    "#random forest classifier (0.9262)\n",
    "from sklearn.ensemble import RandomForestClassifier\n",
    "rfc = RandomForestClassifier(n_estimators=75)\n",
    "\n",
    "yrfc = rfc.fit(train, lab).predict(test)\n",
    "print eval(yrfc, testlabelnum)"
   ]
  },
  {
   "cell_type": "code",
   "execution_count": 28,
   "metadata": {
    "collapsed": false
   },
   "outputs": [
    {
     "name": "stdout",
     "output_type": "stream",
     "text": [
      "0.924352025229\n"
     ]
    },
    {
     "name": "stderr",
     "output_type": "stream",
     "text": [
      "/Users/radixold/anaconda/lib/python2.7/site-packages/ipykernel/__main__.py:5: DataConversionWarning: A column-vector y was passed when a 1d array was expected. Please change the shape of y to (n_samples,), for example using ravel().\n"
     ]
    }
   ],
   "source": [
    "#extratrees on vt (0.9243)\n",
    "from sklearn.ensemble import ExtraTreesClassifier\n",
    "etc = ExtraTreesClassifier(n_estimators=100)\n",
    "\n",
    "yetc = etc.fit(train, lab).predict(test)\n",
    "print eval(yetc, testlabelnum)"
   ]
  },
  {
   "cell_type": "code",
   "execution_count": 30,
   "metadata": {
    "collapsed": false
   },
   "outputs": [
    {
     "name": "stdout",
     "output_type": "stream",
     "text": [
      "0.9136197891\n"
     ]
    },
    {
     "name": "stderr",
     "output_type": "stream",
     "text": [
      "/Users/radixold/anaconda/lib/python2.7/site-packages/sklearn/utils/validation.py:515: DataConversionWarning: A column-vector y was passed when a 1d array was expected. Please change the shape of y to (n_samples, ), for example using ravel().\n",
      "  y = column_or_1d(y, warn=True)\n"
     ]
    }
   ],
   "source": [
    "#bagging 0.9136\n",
    "from sklearn.ensemble import BaggingClassifier\n",
    "from sklearn.tree import DecisionTreeClassifier\n",
    "bagging = BaggingClassifier(DecisionTreeClassifier(max_depth=50))\n",
    "\n",
    "ybagging = bagging.fit(train, lab).predict(test)\n",
    "print eval(ybagging, testlabelnum)"
   ]
  },
  {
   "cell_type": "code",
   "execution_count": 31,
   "metadata": {
    "collapsed": false
   },
   "outputs": [
    {
     "name": "stdout",
     "output_type": "stream",
     "text": [
      "0.921799546664\n"
     ]
    },
    {
     "name": "stderr",
     "output_type": "stream",
     "text": [
      "/Users/radixold/anaconda/lib/python2.7/site-packages/sklearn/utils/validation.py:515: DataConversionWarning: A column-vector y was passed when a 1d array was expected. Please change the shape of y to (n_samples, ), for example using ravel().\n",
      "  y = column_or_1d(y, warn=True)\n"
     ]
    }
   ],
   "source": [
    "#adaboost on dec tree max_depth = 50 (0.9197)\n",
    "from sklearn.ensemble import AdaBoostClassifier\n",
    "from sklearn.tree import DecisionTreeClassifier\n",
    "adaboost20 = AdaBoostClassifier(DecisionTreeClassifier(max_depth=50),n_estimators=600, learning_rate=1)\n",
    "\n",
    "yadaboosttest20 = adaboost20.fit(train, lab).predict(test)\n",
    "print eval(yadaboosttest20, testlabelnum)"
   ]
  },
  {
   "cell_type": "code",
   "execution_count": 33,
   "metadata": {
    "collapsed": false
   },
   "outputs": [
    {
     "name": "stdout",
     "output_type": "stream",
     "text": [
      "0.926470878092\n"
     ]
    },
    {
     "name": "stderr",
     "output_type": "stream",
     "text": [
      "/Users/radixold/anaconda/lib/python2.7/site-packages/ipykernel/__main__.py:5: DataConversionWarning: A column-vector y was passed when a 1d array was expected. Please change the shape of y to (n_samples,), for example using ravel().\n"
     ]
    }
   ],
   "source": [
    "#random forest classifier (0.9264)\n",
    "from sklearn.ensemble import RandomForestClassifier\n",
    "rfc = RandomForestClassifier(n_estimators=200)\n",
    "\n",
    "yrfc = rfc.fit(train, lab).predict(test)\n",
    "print eval(yrfc, testlabelnum)"
   ]
  },
  {
   "cell_type": "code",
   "execution_count": 8,
   "metadata": {
    "collapsed": false
   },
   "outputs": [
    {
     "name": "stdout",
     "output_type": "stream",
     "text": [
      "0.927062185868\n"
     ]
    },
    {
     "name": "stderr",
     "output_type": "stream",
     "text": [
      "/Users/radixold/anaconda/lib/python2.7/site-packages/ipykernel/__main__.py:5: DataConversionWarning: A column-vector y was passed when a 1d array was expected. Please change the shape of y to (n_samples,), for example using ravel().\n"
     ]
    }
   ],
   "source": [
    "#random forest classifier (0.9269)\n",
    "from sklearn.ensemble import RandomForestClassifier\n",
    "rfc = RandomForestClassifier(n_estimators=3000)\n",
    "\n",
    "yrfc = rfc.fit(train, lab).predict(test)\n",
    "print eval(yrfc, testlabelnum)"
   ]
  },
  {
   "cell_type": "code",
   "execution_count": 9,
   "metadata": {
    "collapsed": false
   },
   "outputs": [
    {
     "data": {
      "text/plain": [
       "array([-1, -1, -1, ..., -1, -1, -1])"
      ]
     },
     "execution_count": 9,
     "metadata": {},
     "output_type": "execute_result"
    }
   ],
   "source": [
    "yrfc"
   ]
  },
  {
   "cell_type": "code",
   "execution_count": null,
   "metadata": {
    "collapsed": true
   },
   "outputs": [],
   "source": []
  },
  {
   "cell_type": "code",
   "execution_count": 20,
   "metadata": {
    "collapsed": true
   },
   "outputs": [],
   "source": [
    "classifier = []\n",
    "classifier.append(quizrfc)\n",
    "classifier_df = pd.DataFrame(classifier)\n",
    "classifier_df = classifier_df.T\n",
    "classifier_df.to_csv('out.csv', index=False)"
   ]
  },
  {
   "cell_type": "code",
   "execution_count": 17,
   "metadata": {
    "collapsed": false
   },
   "outputs": [],
   "source": []
  },
  {
   "cell_type": "code",
   "execution_count": 18,
   "metadata": {
    "collapsed": true
   },
   "outputs": [],
   "source": []
  },
  {
   "cell_type": "code",
   "execution_count": 19,
   "metadata": {
    "collapsed": false
   },
   "outputs": [
    {
     "name": "stderr",
     "output_type": "stream",
     "text": [
      "/Users/radixold/anaconda/lib/python2.7/site-packages/ipykernel/__main__.py:1: DataConversionWarning: A column-vector y was passed when a 1d array was expected. Please change the shape of y to (n_samples,), for example using ravel().\n",
      "  if __name__ == '__main__':\n"
     ]
    }
   ],
   "source": [
    "quizrfc = rfc.fit(train, lab).predict(quiz)"
   ]
  },
  {
   "cell_type": "code",
   "execution_count": null,
   "metadata": {
    "collapsed": true
   },
   "outputs": [],
   "source": []
  }
 ],
 "metadata": {
  "kernelspec": {
   "display_name": "Python 2",
   "language": "python",
   "name": "python2"
  },
  "language_info": {
   "codemirror_mode": {
    "name": "ipython",
    "version": 2
   },
   "file_extension": ".py",
   "mimetype": "text/x-python",
   "name": "python",
   "nbconvert_exporter": "python",
   "pygments_lexer": "ipython2",
   "version": "2.7.11"
  }
 },
 "nbformat": 4,
 "nbformat_minor": 0
}
