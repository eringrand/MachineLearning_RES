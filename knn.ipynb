{
 "cells": [
  {
   "cell_type": "code",
   "execution_count": 5,
   "metadata": {
    "collapsed": false
   },
   "outputs": [],
   "source": [
    "from loaddata import importfiles, splitdata\n",
    "from testerror import eval\n",
    "\n",
    "data, label, quiz = importfiles(\"data.csv\", \"quiz.csv\")\n",
    "training, lab, test, testlabel = splitdata(data, label)"
   ]
  },
  {
   "cell_type": "code",
   "execution_count": null,
   "metadata": {
    "collapsed": true
   },
   "outputs": [],
   "source": [
    "def knn(train, trainlabels, test, k):\n",
    "    if k/2 == 0.0:\n",
    "        print \"K must be an odd number to break ties.\"\n",
    "        return None\n",
    "    preds = []\n",
    "    for ind in xrange(len(test)):\n",
    "        t = test[ind]\n",
    "        distance = []\n",
    "        for s in train:\n",
    "            x = s - t\n",
    "            dis = np.dot(x, x)\n",
    "            distance.append(dis)\n",
    "        i = 0\n",
    "        n_list = []\n",
    "        while i < k:\n",
    "            neighbor = np.argmin(distance)\n",
    "            distance[neighbor] = 1000000\n",
    "            n_list.append(neighbor)\n",
    "            i += 1\n",
    "        p = trainlabels[n_list]\n",
    "        pp = sum(p) / abs(sum(p))\n",
    "        \n",
    "        preds.append((ind, pp[0]))\n",
    "    return preds"
   ]
  },
  {
   "cell_type": "code",
   "execution_count": null,
   "metadata": {
    "collapsed": true
   },
   "outputs": [],
   "source": [
    "preds = knn(train, lab, test, 3)"
   ]
  },
  {
   "cell_type": "code",
   "execution_count": null,
   "metadata": {
    "collapsed": true
   },
   "outputs": [],
   "source": [
    "print eval(preds, testlabel)"
   ]
  }
 ],
 "metadata": {
  "kernelspec": {
   "display_name": "Python 2",
   "language": "python",
   "name": "python2"
  },
  "language_info": {
   "codemirror_mode": {
    "name": "ipython",
    "version": 2
   },
   "file_extension": ".py",
   "mimetype": "text/x-python",
   "name": "python",
   "nbconvert_exporter": "python",
   "pygments_lexer": "ipython2",
   "version": "2.7.11"
  }
 },
 "nbformat": 4,
 "nbformat_minor": 0
}
