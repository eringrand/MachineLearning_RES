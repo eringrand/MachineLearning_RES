{
 "cells": [
  {
   "cell_type": "code",
   "execution_count": 2,
   "metadata": {
    "collapsed": false
   },
   "outputs": [],
   "source": [
    "import pandas as pd\n",
    "import numpy as np\n",
    "import math\n",
    "import random\n",
    "\n",
    "\n",
    "ignore_features = ['25', '26', '8', '58', '20', '23', '29', '31', '32', '35']\n",
    "toencode = {}\n",
    "f = open(\"field_types.txt\", 'r')\n",
    "for line in f.readlines():\n",
    "    line = line.strip().split(\" \")\n",
    "    if line[1] != \"numeric\" and line[0] not in ignore_features:\n",
    "        toencode[line[0]] = len(line) - 1\n",
    "        \n",
    "\n",
    "f1 = open(\"data.csv\")\n",
    "data_df = pd.read_csv(f1, sep=',', header = 'infer', low_memory=False)\n",
    "data_df = data_df.drop(ignore_features, axis=1)\n",
    "label_df = data_df[['label']]\n",
    "data_df = data_df.drop('label', axis=1)\n",
    "label = np.array(label_df)\n",
    "\n",
    "\n",
    "f2 = open(\"quiz.csv\")\n",
    "quiz_df = pd.read_csv(f2, sep=',', header = 'infer', low_memory=False)\n",
    "quiz_df = quiz_df.drop(ignore_features, axis=1)\n"
   ]
  },
  {
   "cell_type": "code",
   "execution_count": 3,
   "metadata": {
    "collapsed": false
   },
   "outputs": [],
   "source": [
    "data_end = np.shape(data_df)[0]\n",
    "df = data_df.append(quiz_df)\n",
    "df_trans = pd.get_dummies(df, columns=toencode.keys(), dummy_na=False)\n",
    "data = np.array(df_trans)\n",
    "\n",
    "data, quiz = data[:data_end], data[data_end:]"
   ]
  },
  {
   "cell_type": "code",
   "execution_count": 4,
   "metadata": {
    "collapsed": false
   },
   "outputs": [],
   "source": [
    "#toencode\n",
    "#print data_df"
   ]
  },
  {
   "cell_type": "code",
   "execution_count": 5,
   "metadata": {
    "collapsed": false
   },
   "outputs": [],
   "source": [
    "def splitdata(data, label):\n",
    "    n = data.shape[0]\n",
    "    train_num = int(math.ceil(n*.8))\n",
    "    indices = random.sample(xrange(n), n)\n",
    "\n",
    "    training_idx, test_idx = indices[train_num:], indices[:train_num]\n",
    "    training, test = data[training_idx,:], data[test_idx,:]\n",
    "    lab, testlabel = label[training_idx,:], label[test_idx,:]\n",
    "    \n",
    "    return training, lab, test, testlabel\n",
    "\n",
    "train, lab, test, testlabel = splitdata(data, label)"
   ]
  },
  {
   "cell_type": "code",
   "execution_count": null,
   "metadata": {
    "collapsed": false
   },
   "outputs": [],
   "source": []
  },
  {
   "cell_type": "code",
   "execution_count": null,
   "metadata": {
    "collapsed": false
   },
   "outputs": [],
   "source": []
  },
  {
   "cell_type": "code",
   "execution_count": 6,
   "metadata": {
    "collapsed": false
   },
   "outputs": [],
   "source": [
    "def eval(preds, testlabels):\n",
    "    if len(preds) == len(testlabels):\n",
    "        error = np.count_nonzero(preds != testlabels) / np.float(len(preds))\n",
    "        return 1 - error"
   ]
  },
  {
   "cell_type": "code",
   "execution_count": 6,
   "metadata": {
    "collapsed": false
   },
   "outputs": [],
   "source": [
    "from sklearn.neighbors import KNeighborsClassifier\n",
    "lab = np.ravel(lab)\n",
    "neigh = KNeighborsClassifier(n_neighbors=2, algorithm='ball_tree')\n",
    "f = neigh.fit(train, lab) "
   ]
  },
  {
   "cell_type": "code",
   "execution_count": null,
   "metadata": {
    "collapsed": false
   },
   "outputs": [],
   "source": [
    "#print np.shape(train)\n",
    "#print np.shape(test)\n",
    "preds = neigh.predict(test)"
   ]
  },
  {
   "cell_type": "code",
   "execution_count": 64,
   "metadata": {
    "collapsed": false
   },
   "outputs": [],
   "source": [
    "#x = []\n",
    "#for i in xrange(len(preds)):\n",
    "#    p = preds[i]\n",
    "#    x.append((i+1, p))\n",
    "\n",
    "#preds_df = pd.DataFrame(x, columns=['Id', 'Prediction'])\n",
    "#preds_df.to_csv('knn_out.csv', index=False)"
   ]
  },
  {
   "cell_type": "markdown",
   "metadata": {
    "collapsed": false
   },
   "source": [
    "from sklearn.decomposition import PCA\n",
    "pca = PCA(n_components=50)\n",
    "pca.fit(train,lab)"
   ]
  },
  {
   "cell_type": "code",
   "execution_count": 9,
   "metadata": {
    "collapsed": true
   },
   "outputs": [],
   "source": [
    "testlabelnum = [value[0] for value in testlabel]\n",
    "labnum = [value[0] for value in testlabel]"
   ]
  },
  {
   "cell_type": "code",
   "execution_count": 41,
   "metadata": {
    "collapsed": false
   },
   "outputs": [
    {
     "data": {
      "text/plain": [
       "PCA(copy=True, n_components=300, whiten=False)"
      ]
     },
     "execution_count": 41,
     "metadata": {},
     "output_type": "execute_result"
    }
   ],
   "source": [
    "from sklearn.decomposition import PCA\n",
    "pca = PCA(n_components=300)\n",
    "pca.fit(train,lab)"
   ]
  },
  {
   "cell_type": "code",
   "execution_count": 42,
   "metadata": {
    "collapsed": false,
    "scrolled": true
   },
   "outputs": [
    {
     "data": {
      "text/plain": [
       "(25367, 300)"
      ]
     },
     "execution_count": 42,
     "metadata": {},
     "output_type": "execute_result"
    }
   ],
   "source": [
    "traintrans = pca.fit_transform(train,lab)\n",
    "np.shape(traintrans)"
   ]
  },
  {
   "cell_type": "code",
   "execution_count": 43,
   "metadata": {
    "collapsed": false
   },
   "outputs": [
    {
     "data": {
      "text/plain": [
       "(101470, 300)"
      ]
     },
     "execution_count": 43,
     "metadata": {},
     "output_type": "execute_result"
    }
   ],
   "source": [
    "testtrans = pca.transform(test)\n",
    "np.shape(testtrans)"
   ]
  },
  {
   "cell_type": "code",
   "execution_count": 44,
   "metadata": {
    "collapsed": false,
    "scrolled": false
   },
   "outputs": [
    {
     "name": "stderr",
     "output_type": "stream",
     "text": [
      "/Users/radixold/anaconda/lib/python2.7/site-packages/sklearn/utils/validation.py:515: DataConversionWarning: A column-vector y was passed when a 1d array was expected. Please change the shape of y to (n_samples, ), for example using ravel().\n",
      "  y = column_or_1d(y, warn=True)\n"
     ]
    }
   ],
   "source": [
    "ylogregtesttrans = logreg.fit(traintrans, lab).predict(testtrans)"
   ]
  },
  {
   "cell_type": "code",
   "execution_count": 45,
   "metadata": {
    "collapsed": false,
    "scrolled": false
   },
   "outputs": [
    {
     "data": {
      "text/plain": [
       "0.8772839262836306"
      ]
     },
     "execution_count": 45,
     "metadata": {},
     "output_type": "execute_result"
    }
   ],
   "source": [
    "eval(ylogregtesttrans,testlabelnum)"
   ]
  },
  {
   "cell_type": "code",
   "execution_count": 46,
   "metadata": {
    "collapsed": false
   },
   "outputs": [
    {
     "name": "stdout",
     "output_type": "stream",
     "text": [
      "0.888351236819\n"
     ]
    },
    {
     "name": "stderr",
     "output_type": "stream",
     "text": [
      "/Users/radixold/anaconda/lib/python2.7/site-packages/sklearn/utils/validation.py:515: DataConversionWarning: A column-vector y was passed when a 1d array was expected. Please change the shape of y to (n_samples, ), for example using ravel().\n",
      "  y = column_or_1d(y, warn=True)\n"
     ]
    }
   ],
   "source": [
    "from sklearn.ensemble import AdaBoostClassifier\n",
    "from sklearn.tree import DecisionTreeClassifier\n",
    "adaboost = AdaBoostClassifier(DecisionTreeClassifier(max_depth=2),n_estimators=600,learning_rate=1.5,\n",
    "    algorithm=\"SAMME\")\n",
    "\n",
    "yadaboosttest = adaboost.fit(train, lab).predict(test)\n",
    "print eval(yadaboosttest, testlabelnum)"
   ]
  },
  {
   "cell_type": "code",
   "execution_count": null,
   "metadata": {
    "collapsed": true
   },
   "outputs": [],
   "source": []
  }
 ],
 "metadata": {
  "kernelspec": {
   "display_name": "Python 2",
   "language": "python",
   "name": "python2"
  },
  "language_info": {
   "codemirror_mode": {
    "name": "ipython",
    "version": 2
   },
   "file_extension": ".py",
   "mimetype": "text/x-python",
   "name": "python",
   "nbconvert_exporter": "python",
   "pygments_lexer": "ipython2",
   "version": "2.7.11"
  }
 },
 "nbformat": 4,
 "nbformat_minor": 0
}
