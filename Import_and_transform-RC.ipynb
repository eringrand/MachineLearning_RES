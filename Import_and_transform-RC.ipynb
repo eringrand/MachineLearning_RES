{
 "cells": [
  {
   "cell_type": "code",
   "execution_count": 1,
   "metadata": {
    "collapsed": false
   },
   "outputs": [],
   "source": [
    "import pandas as pd\n",
    "import numpy as np\n",
    "import math\n",
    "import random\n",
    "\n",
    "\n",
    "#ignore_features = ['58', '16', '7', '25', '58', '23', '20']\n",
    "ignore_features = []\n",
    "toencode = {}\n",
    "f = open(\"field_types.txt\", 'r')\n",
    "for line in f.readlines():\n",
    "    line = line.strip().split(\" \")\n",
    "    if line[1] != \"numeric\" and line[0] not in ignore_features:\n",
    "        toencode[line[0]] = len(line) - 1\n",
    "        \n",
    "\n",
    "f1 = open(\"data.csv\")\n",
    "data_df = pd.read_csv(f1, sep=',', header = 'infer', low_memory=False)\n",
    "data_df = data_df.drop(ignore_features, axis=1)\n",
    "label_df = data_df[['label']]\n",
    "data_df = data_df.drop('label', axis=1)\n",
    "label = np.array(label_df)\n",
    "\n",
    "\n",
    "f2 = open(\"quiz.csv\")\n",
    "quiz_df = pd.read_csv(f2, sep=',', header = 'infer', low_memory=False)\n",
    "quiz_df = quiz_df.drop(ignore_features, axis=1)\n"
   ]
  },
  {
   "cell_type": "code",
   "execution_count": 2,
   "metadata": {
    "collapsed": false
   },
   "outputs": [],
   "source": [
    "data_end = np.shape(data_df)[0]\n",
    "df = data_df.append(quiz_df)\n",
    "df_trans = pd.get_dummies(df, columns=toencode.keys(), dummy_na=False)\n",
    "data = np.array(df_trans)\n",
    "\n",
    "data, quiz = data[:data_end], data[data_end:]"
   ]
  },
  {
   "cell_type": "code",
   "execution_count": 3,
   "metadata": {
    "collapsed": false
   },
   "outputs": [],
   "source": [
    "def splitdata(data, label):\n",
    "    n = data.shape[0]\n",
    "    train_num = int(math.ceil(n*.8))\n",
    "    indices = random.sample(xrange(n), n)\n",
    "\n",
    "    training_idx, test_idx = indices[train_num:], indices[:train_num]\n",
    "    training, test = data[training_idx,:], data[test_idx,:]\n",
    "    lab, testlabel = label[training_idx,:], label[test_idx,:]\n",
    "    \n",
    "    return training, lab, test, testlabel\n",
    "\n",
    "train, lab, test, testlabel = splitdata(data, label)"
   ]
  },
  {
   "cell_type": "code",
   "execution_count": 4,
   "metadata": {
    "collapsed": false
   },
   "outputs": [],
   "source": [
    "def eval(preds, testlabels):\n",
    "    if len(preds) == len(testlabels):\n",
    "        error = np.count_nonzero(preds != testlabels) / np.float(len(preds))\n",
    "        return 1 - error\n",
    "    \n"
   ]
  },
  {
   "cell_type": "code",
   "execution_count": 5,
   "metadata": {
    "collapsed": false
   },
   "outputs": [],
   "source": [
    "from sklearn.linear_model import LogisticRegression\n",
    "logreg = LogisticRegression()"
   ]
  },
  {
   "cell_type": "code",
   "execution_count": null,
   "metadata": {
    "collapsed": false
   },
   "outputs": [],
   "source": [
    "testlabelnum = [value[0] for value in testlabel]\n",
    "labnum = [value[0] for value in testlabel]\n"
   ]
  },
  {
   "cell_type": "code",
   "execution_count": null,
   "metadata": {
    "collapsed": false
   },
   "outputs": [],
   "source": [
    "ylogregtest = logreg.fit(train, lab).predict(test)\n"
   ]
  },
  {
   "cell_type": "code",
   "execution_count": null,
   "metadata": {
    "collapsed": false,
    "scrolled": false
   },
   "outputs": [],
   "source": [
    "print eval(ylogregtest, testlabelnum)"
   ]
  },
  {
   "cell_type": "code",
   "execution_count": null,
   "metadata": {
    "collapsed": false
   },
   "outputs": [],
   "source": [
    "ylogregquiz = logreg.fit(train, lab).predict(quiz)"
   ]
  },
  {
   "cell_type": "code",
   "execution_count": null,
   "metadata": {
    "collapsed": false
   },
   "outputs": [],
   "source": [
    "ylogregquiz = logreg.fit(train, lab).predict(quiz)\n",
    "csvfile = \"logreg2.csv\"\n",
    "\n",
    "with open(csvfile,\"w\") as output:\n",
    "    writer = csv.writer(output, lineterminator='\\n')\n",
    "    for val in ylogregquiz:\n",
    "        writer.writerow([val])\n",
    "        "
   ]
  },
  {
   "cell_type": "code",
   "execution_count": null,
   "metadata": {
    "collapsed": false
   },
   "outputs": [],
   "source": [
    "len(ylogregquiz)"
   ]
  },
  {
   "cell_type": "code",
   "execution_count": null,
   "metadata": {
    "collapsed": false
   },
   "outputs": [],
   "source": [
    "from sklearn.svm import SVC\n",
    "svc = SVC()\n",
    "\n",
    "ysvctest = svc.fit(train, lab).predict(test)\n",
    "print eval(ysvctest, testlabelnum)"
   ]
  },
  {
   "cell_type": "code",
   "execution_count": null,
   "metadata": {
    "collapsed": false
   },
   "outputs": [],
   "source": [
    "ysvcquiz = svc.fit(train, lab).predict(quiz)\n",
    "csvfile = \"svc.csv\"\n",
    "\n",
    "with open(csvfile,\"w\") as output:\n",
    "    writer = csv.writer(output, lineterminator='\\n')\n",
    "    for val in ysvcquiz:\n",
    "        writer.writerow([val])"
   ]
  },
  {
   "cell_type": "code",
   "execution_count": null,
   "metadata": {
    "collapsed": false
   },
   "outputs": [],
   "source": [
    "from sklearn.ensemble import AdaBoostClassifier\n",
    "from sklearn.tree import DecisionTreeClassifier\n",
    "adaboost = AdaBoostClassifier(DecisionTreeClassifier(max_depth=2),n_estimators=600,learning_rate=1.5,\n",
    "    algorithm=\"SAMME\")\n",
    "\n",
    "yadaboosttest = adaboost.fit(train, lab).predict(test)\n",
    "print eval(yadaboosttest, testlabelnum)"
   ]
  },
  {
   "cell_type": "code",
   "execution_count": null,
   "metadata": {
    "collapsed": false
   },
   "outputs": [],
   "source": [
    "from sklearn.linear_model import SGDClassifier\n",
    "sgd = SGDClassifier()\n",
    "\n",
    "ysgdtest = sgd.fit(train, lab).predict(test)\n",
    "print eval(ysgdtest, testlabelnum)"
   ]
  },
  {
   "cell_type": "code",
   "execution_count": null,
   "metadata": {
    "collapsed": false
   },
   "outputs": [],
   "source": [
    "yadaboostquiz = adaboost.fit(train, lab).predict(quiz)"
   ]
  },
  {
   "cell_type": "code",
   "execution_count": null,
   "metadata": {
    "collapsed": false
   },
   "outputs": [],
   "source": [
    "import csv\n",
    "csvfile = \"adaboost.csv\"\n",
    "\n",
    "with open(csvfile,\"w\") as output:\n",
    "    writer = csv.writer(output, lineterminator='\\n')\n",
    "    for val in yadaboostquiz:\n",
    "        writer.writerow([val])"
   ]
  },
  {
   "cell_type": "code",
   "execution_count": null,
   "metadata": {
    "collapsed": true
   },
   "outputs": [],
   "source": []
  }
 ],
 "metadata": {
  "kernelspec": {
   "display_name": "Python 2",
   "language": "python",
   "name": "python2"
  },
  "language_info": {
   "codemirror_mode": {
    "name": "ipython",
    "version": 2
   },
   "file_extension": ".py",
   "mimetype": "text/x-python",
   "name": "python",
   "nbconvert_exporter": "python",
   "pygments_lexer": "ipython2",
   "version": "2.7.11"
  }
 },
 "nbformat": 4,
 "nbformat_minor": 0
}
