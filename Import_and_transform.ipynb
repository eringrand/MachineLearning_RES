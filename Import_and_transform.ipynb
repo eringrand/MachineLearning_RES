{
 "cells": [
  {
   "cell_type": "code",
   "execution_count": 3,
   "metadata": {
    "collapsed": false
   },
   "outputs": [],
   "source": [
    "import pandas as pd\n",
    "import numpy as np\n",
    "import math\n",
    "import random\n",
    "\n",
    "ignore_features = ['58', '16', '7', '25', '58', '23']\n",
    "f1 = open(\"data.csv\")\n",
    "data_df = pd.read_csv(f1, sep=',', header = 'infer', low_memory=False)\n",
    "data_df = data_df.drop(ignore_features, axis=1)\n",
    "label_df = data_df[['label']]\n",
    "data_df = data_df.drop('label', axis=1)\n",
    "\n",
    "label = np.array(label_df)"
   ]
  },
  {
   "cell_type": "code",
   "execution_count": 4,
   "metadata": {
    "collapsed": false
   },
   "outputs": [],
   "source": [
    "toencode = {}\n",
    "#notencode = []\n",
    "f = open(\"field_types.txt\", 'r')\n",
    "for line in f.readlines():\n",
    "    line = line.strip().split(\" \")\n",
    "    if line[1] != \"numeric\" and line[0] not in ignore_features:\n",
    "        toencode[line[0]] = len(line)-1\n",
    "        \n",
    "\n",
    "dat_trans = pd.get_dummies(data_df, columns=toencode.keys())"
   ]
  },
  {
   "cell_type": "code",
   "execution_count": 5,
   "metadata": {
    "collapsed": false
   },
   "outputs": [],
   "source": [
    "data = np.array(dat_trans)"
   ]
  },
  {
   "cell_type": "code",
   "execution_count": 6,
   "metadata": {
    "collapsed": false
   },
   "outputs": [],
   "source": [
    "def splitdata(data, label):\n",
    "    n = data.shape[0]\n",
    "    train_num = int(math.ceil(n*.8))\n",
    "    indices = random.sample(xrange(n), n)\n",
    "\n",
    "    training_idx, test_idx = indices[train_num:], indices[:train_num]\n",
    "    training, test = data[training_idx,:], data[test_idx,:]\n",
    "    lab, testlabel = label[training_idx,:], label[test_idx,:]\n",
    "    \n",
    "    return training, lab, test, testlabel\n",
    "\n",
    "train, lab, test, testlabel = splitdata(data, label)"
   ]
  },
  {
   "cell_type": "code",
   "execution_count": 15,
   "metadata": {
    "collapsed": false
   },
   "outputs": [],
   "source": [
    "def knn(train, trainlabels, test, k):\n",
    "    if k/2 == 0.0:\n",
    "        print \"K must be an odd number to break ties.\"\n",
    "        return None\n",
    "    preds = []\n",
    "    for t in test:\n",
    "        distance = []\n",
    "        for s in train:\n",
    "            x = s - t\n",
    "            dis = np.dot(x, x)\n",
    "            distance.append(dis)\n",
    "        i = 0\n",
    "        n_list = []\n",
    "        while i < k:\n",
    "            neighbor = np.argmin(distance)\n",
    "            distance[neighbor] = 1000000\n",
    "            n_list.append(neighbor)\n",
    "            i += 1\n",
    "        p = trainlabels[n_list]\n",
    "        pp = np.sum(p) / abs(np.sum(p))\n",
    "        \n",
    "        preds.append(pp)\n",
    "    return preds"
   ]
  },
  {
   "cell_type": "code",
   "execution_count": null,
   "metadata": {
    "collapsed": false
   },
   "outputs": [],
   "source": [
    "preds = knn(train, lab, test, 3)"
   ]
  },
  {
   "cell_type": "code",
   "execution_count": null,
   "metadata": {
    "collapsed": false
   },
   "outputs": [],
   "source": [
    "def eval(preds, testlabels):\n",
    "    if len(p) == len(testlabels):\n",
    "        error = np.count_nonzero(p != testlabels) / np.float(len(p))\n",
    "        return 1 - error\n",
    "    \n",
    "print eval(preds, testlabels)"
   ]
  },
  {
   "cell_type": "code",
   "execution_count": null,
   "metadata": {
    "collapsed": false
   },
   "outputs": [],
   "source": [
    "def knn2(train, trainlabels, test):\n",
    "    norms = np.square(np.linalg.norm(train, axis = 1))\n",
    "    cross = np.dot(test, train.T)\n",
    "    distances = -2*cross + norms\n",
    "    indicies = np.argmin(distances, axis = 1)\n",
    "    preds = train_label[indicies]\n",
    "    return preds"
   ]
  },
  {
   "cell_type": "code",
   "execution_count": null,
   "metadata": {
    "collapsed": false
   },
   "outputs": [],
   "source": [
    "preds = knn2(train, lab, test)\n",
    "print eval(preds, testlabels)"
   ]
  },
  {
   "cell_type": "code",
   "execution_count": null,
   "metadata": {
    "collapsed": false
   },
   "outputs": [],
   "source": []
  },
  {
   "cell_type": "code",
   "execution_count": null,
   "metadata": {
    "collapsed": false
   },
   "outputs": [],
   "source": []
  },
  {
   "cell_type": "code",
   "execution_count": null,
   "metadata": {
    "collapsed": true
   },
   "outputs": [],
   "source": []
  }
 ],
 "metadata": {
  "kernelspec": {
   "display_name": "Python 2",
   "language": "python",
   "name": "python2"
  },
  "language_info": {
   "codemirror_mode": {
    "name": "ipython",
    "version": 2
   },
   "file_extension": ".py",
   "mimetype": "text/x-python",
   "name": "python",
   "nbconvert_exporter": "python",
   "pygments_lexer": "ipython2",
   "version": "2.7.11"
  }
 },
 "nbformat": 4,
 "nbformat_minor": 0
}
