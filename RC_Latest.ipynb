{
 "cells": [
  {
   "cell_type": "code",
   "execution_count": 1,
   "metadata": {
    "collapsed": false
   },
   "outputs": [],
   "source": [
    "#setup data\n",
    "import pandas as pd\n",
    "import numpy as np\n",
    "import math\n",
    "import random\n",
    "from sklearn import preprocessing\n",
    "\n",
    "ignore_features = ['25', '26', '8', '58', '20', '23', '29', '31', '32', '35']\n",
    "toencode = {}\n",
    "f = open(\"field_types.txt\", 'r')\n",
    "for line in f.readlines():\n",
    "    line = line.strip().split(\" \")\n",
    "    if line[1] != \"numeric\" and line[0] not in ignore_features:\n",
    "        toencode[line[0]] = len(line) - 1\n",
    "        \n",
    "\n",
    "f1 = open(\"data.csv\")\n",
    "data_df = pd.read_csv(f1, sep=',', header = 'infer', low_memory=False)\n",
    "data_df = data_df.drop(ignore_features, axis=1)\n",
    "label_df = data_df[['label']]\n",
    "data_df = data_df.drop('label', axis=1)\n",
    "label = np.array(label_df)\n",
    "\n",
    "\n",
    "f2 = open(\"quiz.csv\")\n",
    "quiz_df = pd.read_csv(f2, sep=',', header = 'infer', low_memory=False)\n",
    "quiz_df = quiz_df.drop(ignore_features, axis=1)\n"
   ]
  },
  {
   "cell_type": "code",
   "execution_count": 2,
   "metadata": {
    "collapsed": false
   },
   "outputs": [],
   "source": [
    "#getting test and train\n",
    "data_end = np.shape(data_df)[0]\n",
    "df = data_df.append(quiz_df)\n",
    "df_trans = pd.get_dummies(df, columns=toencode.keys(), dummy_na=False)\n",
    "data = np.array(df_trans)\n",
    "\n",
    "data, quiz = data[:data_end], data[data_end:]"
   ]
  },
  {
   "cell_type": "code",
   "execution_count": 3,
   "metadata": {
    "collapsed": false
   },
   "outputs": [],
   "source": [
    "#splitting to features and labels by training and test\n",
    "def splitdata(data, label):\n",
    "    n = data.shape[0]\n",
    "    train_num = int(math.ceil(n*.8))\n",
    "    indices = random.sample(xrange(n), n)\n",
    "\n",
    "    training_idx, test_idx = indices[train_num:], indices[:train_num]\n",
    "    training, test = data[training_idx,:], data[test_idx,:]\n",
    "    lab, testlabel = label[training_idx,:], label[test_idx,:]\n",
    "    \n",
    "    return training, lab, test, testlabel\n",
    "\n",
    "train, lab, test, testlabel = splitdata(data, label)"
   ]
  },
  {
   "cell_type": "code",
   "execution_count": 4,
   "metadata": {
    "collapsed": false
   },
   "outputs": [],
   "source": [
    "#evaluator\n",
    "def eval(preds, testlabels):\n",
    "    if len(preds) == len(testlabels):\n",
    "        error = np.count_nonzero(preds != testlabels) / np.float(len(preds))\n",
    "        return 1 - error"
   ]
  },
  {
   "cell_type": "code",
   "execution_count": 5,
   "metadata": {
    "collapsed": true
   },
   "outputs": [],
   "source": [
    "#unraveling\n",
    "testlabelnum = np.ravel(testlabel)\n",
    "labnum = np.ravel(lab)"
   ]
  },
  {
   "cell_type": "code",
   "execution_count": 8,
   "metadata": {
    "collapsed": false
   },
   "outputs": [],
   "source": [
    "# scalar weighting\n",
    "scaler = preprocessing.StandardScaler().fit(train)\n",
    "train = scaler.transform(train) \n",
    "test = scaler.transform(test) \n",
    "quiz = scaler.transform(quiz) "
   ]
  },
  {
   "cell_type": "code",
   "execution_count": 9,
   "metadata": {
    "collapsed": false
   },
   "outputs": [
    {
     "name": "stderr",
     "output_type": "stream",
     "text": [
      "/Users/radixold/anaconda/lib/python2.7/site-packages/sklearn/utils/validation.py:515: DataConversionWarning: A column-vector y was passed when a 1d array was expected. Please change the shape of y to (n_samples, ), for example using ravel().\n",
      "  y = column_or_1d(y, warn=True)\n"
     ]
    }
   ],
   "source": [
    "#logistic regression (0.87656)\n",
    "from sklearn.linear_model import LogisticRegression\n",
    "logreg = LogisticRegression()\n",
    "\n",
    "ylogregtest = logreg.fit(train, lab).predict(test)\n",
    "\n",
    "print eval(ylogregtest, testlabelnum)"
   ]
  },
  {
   "cell_type": "code",
   "execution_count": 10,
   "metadata": {
    "collapsed": false,
    "scrolled": true
   },
   "outputs": [
    {
     "name": "stdout",
     "output_type": "stream",
     "text": [
      "0.876564501823\n"
     ]
    }
   ],
   "source": [
    "eval(ylogregtesttrans,testlabelnum)"
   ]
  },
  {
   "cell_type": "code",
   "execution_count": 11,
   "metadata": {
    "collapsed": false
   },
   "outputs": [
    {
     "name": "stdout",
     "output_type": "stream",
     "text": [
      "0.916921257515\n"
     ]
    },
    {
     "name": "stderr",
     "output_type": "stream",
     "text": [
      "/Users/radixold/anaconda/lib/python2.7/site-packages/sklearn/utils/validation.py:515: DataConversionWarning: A column-vector y was passed when a 1d array was expected. Please change the shape of y to (n_samples, ), for example using ravel().\n",
      "  y = column_or_1d(y, warn=True)\n"
     ]
    }
   ],
   "source": [
    "#adaboost on dec tree max_dept = 10 (0.901)\n",
    "from sklearn.ensemble import AdaBoostClassifier\n",
    "from sklearn.tree import DecisionTreeClassifier\n",
    "adaboost = AdaBoostClassifier(DecisionTreeClassifier(max_depth=10),n_estimators=600, learning_rate=1)\n",
    "\n",
    "yadaboosttest = adaboost.fit(train, lab).predict(test)\n",
    "print eval(yadaboosttest, testlabelnum)"
   ]
  },
  {
   "cell_type": "code",
   "execution_count": null,
   "metadata": {
    "collapsed": false
   },
   "outputs": [],
   "source": [
    "#adaboost on dec tree max_dept = 20' learning_rate = 2 (0.9197)\n",
    "from sklearn.ensemble import AdaBoostClassifier\n",
    "from sklearn.tree import DecisionTreeClassifier\n",
    "adaboost20lr = AdaBoostClassifier(DecisionTreeClassifier(max_depth=30),n_estimators=1000, learning_rate=.75)\n",
    "\n",
    "yadaboosttest20lr = adaboost20lr.fit(train, lab).predict(test)\n",
    "print eval(yadaboosttest20lr, testlabelnum)"
   ]
  },
  {
   "cell_type": "code",
   "execution_count": null,
   "metadata": {
    "collapsed": true
   },
   "outputs": [],
   "source": [
    "import csv\n",
    "csvfile = \"adaboost.csv\"\n",
    "\n",
    "with open(csvfile,\"w\") as output:\n",
    "    writer = csv.writer(output, lineterminator='\\n')\n",
    "    for val in yadaboostquiz:\n",
    "        writer.writerow([val])"
   ]
  },
  {
   "cell_type": "code",
   "execution_count": null,
   "metadata": {
    "collapsed": true
   },
   "outputs": [],
   "source": []
  }
 ],
 "metadata": {
  "kernelspec": {
   "display_name": "Python 2",
   "language": "python",
   "name": "python2"
  },
  "language_info": {
   "codemirror_mode": {
    "name": "ipython",
    "version": 2
   },
   "file_extension": ".py",
   "mimetype": "text/x-python",
   "name": "python",
   "nbconvert_exporter": "python",
   "pygments_lexer": "ipython2",
   "version": "2.7.11"
  }
 },
 "nbformat": 4,
 "nbformat_minor": 0
}
