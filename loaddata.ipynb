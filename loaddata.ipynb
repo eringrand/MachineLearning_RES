{
 "cells": [
  {
   "cell_type": "code",
   "execution_count": 66,
   "metadata": {
    "collapsed": false
   },
   "outputs": [],
   "source": [
    "#import sqlite3 as sqlite\n",
    "import pandas as pd\n",
    "#import pandas.io.sql as psql\n",
    "import random\n",
    "import math\n",
    "import numpy as np\n",
    "\n",
    "f = open(\"data.csv\")\n",
    "data = pd.read_csv(f,sep=',', header = 'infer', low_memory=False)\n",
    "label = data[['label']]\n",
    "data = data.drop('label', 1)\n",
    "\n",
    "data = np.matrix(data)\n",
    "label = np.array(label)"
   ]
  },
  {
   "cell_type": "code",
   "execution_count": 73,
   "metadata": {
    "collapsed": false
   },
   "outputs": [],
   "source": [
    "n = data.shape[0]\n",
    "train_num = int(math.ceil(n*.8))\n",
    "indices = random.sample(xrange(n), n)\n",
    "training_idx, test_idx = indices[train_num:], indices[:train_num]\n",
    "training, test = data[training_idx,:], data[test_idx,:]"
   ]
  },
  {
   "cell_type": "code",
   "execution_count": 74,
   "metadata": {
    "collapsed": false
   },
   "outputs": [
    {
     "data": {
      "text/plain": [
       "matrix([['indef', 0.0, 'dobj', ..., 0.0, 0.0, 0.0],\n",
       "        ['def', 0.0, 'prep_of', ..., 1.0, 1.0, 0.0],\n",
       "        ['null', 0.0, 'prep_towards', ..., 0.0, 0.0, 0.0],\n",
       "        ..., \n",
       "        ['indef', 0.0, 'ccomp', ..., 0.0, 0.0, 0.0],\n",
       "        ['def', 0.0, 'dobj', ..., 0.0, 0.0, 0.0],\n",
       "        ['el', 0.0, 'prep_at', ..., 0.0, 0.0, 0.0]], dtype=object)"
      ]
     },
     "execution_count": 74,
     "metadata": {},
     "output_type": "execute_result"
    }
   ],
   "source": [
    "training"
   ]
  },
  {
   "cell_type": "code",
   "execution_count": null,
   "metadata": {
    "collapsed": false
   },
   "outputs": [],
   "source": []
  },
  {
   "cell_type": "code",
   "execution_count": null,
   "metadata": {
    "collapsed": false
   },
   "outputs": [],
   "source": []
  },
  {
   "cell_type": "code",
   "execution_count": null,
   "metadata": {
    "collapsed": true
   },
   "outputs": [],
   "source": []
  }
 ],
 "metadata": {
  "kernelspec": {
   "display_name": "Python 2",
   "language": "python",
   "name": "python2"
  },
  "language_info": {
   "codemirror_mode": {
    "name": "ipython",
    "version": 2
   },
   "file_extension": ".py",
   "mimetype": "text/x-python",
   "name": "python",
   "nbconvert_exporter": "python",
   "pygments_lexer": "ipython2",
   "version": "2.7.11"
  }
 },
 "nbformat": 4,
 "nbformat_minor": 0
}
