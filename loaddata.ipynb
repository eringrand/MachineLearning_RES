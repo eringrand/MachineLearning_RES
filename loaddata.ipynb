{
 "cells": [
  {
   "cell_type": "code",
   "execution_count": 1,
   "metadata": {
    "collapsed": false
   },
   "outputs": [],
   "source": [
    "import pandas as pd\n",
    "import numpy as np\n",
    "import random\n",
    "import math\n",
    "\n",
    "def importfiles(train, test):\n",
    "    f1 = open(train)\n",
    "    f2 = open(test)\n",
    "\n",
    "    data_df = pd.read_csv(f1, sep=',', header = 'infer', low_memory=False)\n",
    "    label_df = data_df[['label']]\n",
    "    data_df = data_df.drop('label', 1)\n",
    "\n",
    "    data_df =  data_df.drop(['0','20', '5', '7', '8', '9', '14', '16', '17', \n",
    "                             '56', '57', '58', '23', '25', '18', '26'],  axis=1)\n",
    "    data_df = data_df.drop(['29', '31', '32', '35'],  axis=1)\n",
    "    data = np.array(data_df)\n",
    "    label = np.array(label_df)\n",
    "    \n",
    "    quiz_df = pd.read_csv(f2, sep=',', header = 'infer', low_memory=False)\n",
    "    quiz_df = quiz_df.drop(['0','20', '5', '7', '8', '9', '14', '16', '17', \n",
    "                            '56', '57', '58', '23', '25', '18', '26'],  axis=1)\n",
    "    quiz_df = quiz_df.drop(['31', '32', '35', '29'],  axis=1)\n",
    "\n",
    "    quiz = np.array(quiz_df)\n",
    "    \n",
    "    return data, label, quiz\n",
    "\n",
    "data, label, quiz = importfiles(\"data.csv\", \"quiz.csv\")"
   ]
  },
  {
   "cell_type": "code",
   "execution_count": 2,
   "metadata": {
    "collapsed": false
   },
   "outputs": [],
   "source": [
    "def splitdata(data, label):\n",
    "    n = data.shape[0]\n",
    "    train_num = int(math.ceil(n*.8))\n",
    "    indices = random.sample(xrange(n), n)\n",
    "\n",
    "    training_idx, test_idx = indices[train_num:], indices[:train_num]\n",
    "    training, test = data[training_idx,:], data[test_idx,:]\n",
    "    lab, testlabel = label[training_idx,:], label[test_idx,:]\n",
    "    \n",
    "    return training, lab, test, testlabel\n",
    "\n",
    "train, lab, test, testlabel = splitdata(data, label)"
   ]
  },
  {
   "cell_type": "code",
   "execution_count": 3,
   "metadata": {
    "collapsed": false
   },
   "outputs": [],
   "source": [
    "def randomClassification(x):\n",
    "    preds = []\n",
    "    for i in xrange(len(x)):\n",
    "        yi = random.randint(0, 1) \n",
    "        if yi == 0:\n",
    "            yi = -1\n",
    "        preds.append((i+1 , yi))\n",
    "    return preds"
   ]
  },
  {
   "cell_type": "code",
   "execution_count": null,
   "metadata": {
    "collapsed": false
   },
   "outputs": [],
   "source": [
    "preds = randomClassification(quiz)"
   ]
  },
  {
   "cell_type": "code",
   "execution_count": null,
   "metadata": {
    "collapsed": false
   },
   "outputs": [],
   "source": [
    "preds_df = pd.DataFrame(preds, columns=['Id', 'Prediction'])\n",
    "preds_df.to_csv('out.csv', index=False)"
   ]
  },
  {
   "cell_type": "code",
   "execution_count": null,
   "metadata": {
    "collapsed": false
   },
   "outputs": [],
   "source": [
    "from testerror import eval\n",
    "\n",
    "preds = randomClassification(test)\n",
    "print eval(preds, testlabel)\n"
   ]
  },
  {
   "cell_type": "code",
   "execution_count": 4,
   "metadata": {
    "collapsed": false
   },
   "outputs": [],
   "source": [
    "def knn(train, trainlabels, test, k):\n",
    "    if k/2 == 0.0:\n",
    "        print \"K must be an odd number to break ties.\"\n",
    "        return None\n",
    "    preds = []\n",
    "    for ind in xrange(len(test)):\n",
    "        t = test[ind]\n",
    "        distance = []\n",
    "        for s in train:\n",
    "            x = s - t\n",
    "            dis = np.dot(x, x)\n",
    "            distance.append(dis)\n",
    "        i = 0\n",
    "        n_list = []\n",
    "        while i < k:\n",
    "            neighbor = np.argmin(distance)\n",
    "            distance[neighbor] = 1000000\n",
    "            n_list.append(neighbor)\n",
    "            i += 1\n",
    "        p = trainlabels[n_list]\n",
    "        pp = sum(p) / abs(sum(p))\n",
    "        \n",
    "        preds.append((ind, pp[0]))\n",
    "    return preds"
   ]
  },
  {
   "cell_type": "code",
   "execution_count": 5,
   "metadata": {
    "collapsed": false
   },
   "outputs": [],
   "source": [
    "preds = knn(train, lab, test, 3)"
   ]
  },
  {
   "cell_type": "code",
   "execution_count": 8,
   "metadata": {
    "collapsed": false
   },
   "outputs": [
    {
     "name": "stdout",
     "output_type": "stream",
     "text": [
      "0.767074012023\n"
     ]
    }
   ],
   "source": [
    "from testerror import eval\n",
    "print eval(preds, testlabel)"
   ]
  },
  {
   "cell_type": "code",
   "execution_count": null,
   "metadata": {
    "collapsed": false
   },
   "outputs": [],
   "source": []
  },
  {
   "cell_type": "code",
   "execution_count": null,
   "metadata": {
    "collapsed": false
   },
   "outputs": [],
   "source": []
  },
  {
   "cell_type": "code",
   "execution_count": null,
   "metadata": {
    "collapsed": true
   },
   "outputs": [],
   "source": [
    "def transform(df):\n",
    "    "
   ]
  },
  {
   "cell_type": "code",
   "execution_count": null,
   "metadata": {
    "collapsed": false
   },
   "outputs": [],
   "source": []
  },
  {
   "cell_type": "code",
   "execution_count": null,
   "metadata": {
    "collapsed": false
   },
   "outputs": [],
   "source": [
    "data_df.mean()\n",
    "#Columns to kill:\n"
   ]
  },
  {
   "cell_type": "code",
   "execution_count": null,
   "metadata": {
    "collapsed": true
   },
   "outputs": [],
   "source": []
  }
 ],
 "metadata": {
  "kernelspec": {
   "display_name": "Python 2",
   "language": "python",
   "name": "python2"
  },
  "language_info": {
   "codemirror_mode": {
    "name": "ipython",
    "version": 2
   },
   "file_extension": ".py",
   "mimetype": "text/x-python",
   "name": "python",
   "nbconvert_exporter": "python",
   "pygments_lexer": "ipython2",
   "version": "2.7.11"
  }
 },
 "nbformat": 4,
 "nbformat_minor": 0
}
