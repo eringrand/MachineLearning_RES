{
 "cells": [
  {
   "cell_type": "code",
   "execution_count": 119,
   "metadata": {
    "collapsed": false
   },
   "outputs": [],
   "source": [
    "import pandas as pd\n",
    "import random\n",
    "import math\n",
    "import numpy as np\n",
    "\n",
    "def importfiles(train, test):\n",
    "    f1 = open(train)\n",
    "    f2 = open(test)\n",
    "\n",
    "    data_df = pd.read_csv(f1,sep=',', header = 'infer', low_memory=False)\n",
    "    label_df = data_df[['label']]\n",
    "    data_df = data_df.drop('label', 1)\n",
    "\n",
    "    data = np.matrix(data_df)\n",
    "    label = np.array(label_df)\n",
    "    \n",
    "    quiz_df = pd.read_csv(f2, sep=',', header = 'infer', low_memory=False)\n",
    "    quiz = np.matrix(quiz_df)\n",
    "    \n",
    "    return data, label, quiz\n",
    "\n",
    "\n",
    "f1 = \"data.csv\"\n",
    "f2 = \"quiz.csv\"\n",
    "data, label, quiz = importfiles(f1, f2)"
   ]
  },
  {
   "cell_type": "code",
   "execution_count": 123,
   "metadata": {
    "collapsed": false
   },
   "outputs": [],
   "source": [
    "def splitdata(data, label):\n",
    "    n = data.shape[0]\n",
    "    train_num = int(math.ceil(n*.8))\n",
    "    indices = random.sample(xrange(n), n)\n",
    "\n",
    "    training_idx, test_idx = indices[train_num:], indices[:train_num]\n",
    "    training, test = data[training_idx,:], data[test_idx,:]\n",
    "    lab, testlabel = label[training_idx,:], label[test_idx,:]\n",
    "    \n",
    "    return training, lab, test, testlabel\n",
    "training, lab, test, testlabel = splitdata(data, label)"
   ]
  },
  {
   "cell_type": "code",
   "execution_count": 156,
   "metadata": {
    "collapsed": false
   },
   "outputs": [],
   "source": [
    "def randomClassification(x):\n",
    "    preds = []\n",
    "    for i in xrange(len(x)):\n",
    "        yi = random.randint(0, 1) \n",
    "        if yi == 0:\n",
    "        yi = -1\n",
    "        preds.append((i+1 , yi))\n",
    "    return preds"
   ]
  },
  {
   "cell_type": "code",
   "execution_count": 157,
   "metadata": {
    "collapsed": false
   },
   "outputs": [],
   "source": [
    "preds = randomClassification(quiz)"
   ]
  },
  {
   "cell_type": "code",
   "execution_count": 158,
   "metadata": {
    "collapsed": false
   },
   "outputs": [],
   "source": [
    "preds_df = pd.DataFrame(preds, columns=['Id', 'Prediction'])\n",
    "preds_df.to_csv('out.csv', index=False)"
   ]
  },
  {
   "cell_type": "code",
   "execution_count": null,
   "metadata": {
    "collapsed": false
   },
   "outputs": [],
   "source": []
  },
  {
   "cell_type": "code",
   "execution_count": null,
   "metadata": {
    "collapsed": false
   },
   "outputs": [],
   "source": []
  },
  {
   "cell_type": "code",
   "execution_count": null,
   "metadata": {
    "collapsed": true
   },
   "outputs": [],
   "source": []
  }
 ],
 "metadata": {
  "kernelspec": {
   "display_name": "Python 2",
   "language": "python",
   "name": "python2"
  },
  "language_info": {
   "codemirror_mode": {
    "name": "ipython",
    "version": 2
   },
   "file_extension": ".py",
   "mimetype": "text/x-python",
   "name": "python",
   "nbconvert_exporter": "python",
   "pygments_lexer": "ipython2",
   "version": "2.7.11"
  }
 },
 "nbformat": 4,
 "nbformat_minor": 0
}
