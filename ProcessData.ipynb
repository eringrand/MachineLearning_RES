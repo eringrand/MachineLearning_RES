{
 "cells": [
  {
   "cell_type": "code",
   "execution_count": 1,
   "metadata": {
    "collapsed": true
   },
   "outputs": [],
   "source": [
    "import pandas as pd\n",
    "import numpy as np\n",
    "import random\n",
    "import math\n",
    "\n",
    "def importfiles(train, test):\n",
    "    f1 = open(train)\n",
    "    f2 = open(test)\n",
    "\n",
    "    data_df = pd.read_csv(f1, sep=',', header = 'infer', low_memory=False)\n",
    "    label_df = data_df[['label']]\n",
    "    data_df = data_df.drop('label', 1)\n",
    "\n",
    "    data = np.array(data_df)\n",
    "    label = np.array(label_df)\n",
    "    \n",
    "    quiz_df = pd.read_csv(f2, sep=',', header = 'infer', low_memory=False)\n",
    "\n",
    "    quiz = np.array(quiz_df)\n",
    "    \n",
    "    return data, label, quiz\n",
    "\n",
    "data, label, quiz = importfiles(\"data.csv\", \"quiz.csv\")"
   ]
  },
  {
   "cell_type": "code",
   "execution_count": 11,
   "metadata": {
    "collapsed": false
   },
   "outputs": [],
   "source": [
    "import category_encoders as ce\n",
    "encoder = ce.BinaryEncoder() "
   ]
  },
  {
   "cell_type": "code",
   "execution_count": null,
   "metadata": {
    "collapsed": false,
    "scrolled": true
   },
   "outputs": [],
   "source": [
    "processeddata = encoder.transform(data)"
   ]
  },
  {
   "cell_type": "code",
   "execution_count": null,
   "metadata": {
    "collapsed": true
   },
   "outputs": [],
   "source": [
    "processedquiz = encoder.transform(quiz)"
   ]
  },
  {
   "cell_type": "code",
   "execution_count": null,
   "metadata": {
    "collapsed": true
   },
   "outputs": [],
   "source": []
  }
 ],
 "metadata": {
  "kernelspec": {
   "display_name": "Python 2",
   "language": "python",
   "name": "python2"
  },
  "language_info": {
   "codemirror_mode": {
    "name": "ipython",
    "version": 2
   },
   "file_extension": ".py",
   "mimetype": "text/x-python",
   "name": "python",
   "nbconvert_exporter": "python",
   "pygments_lexer": "ipython2",
   "version": "2.7.11"
  }
 },
 "nbformat": 4,
 "nbformat_minor": 0
}
